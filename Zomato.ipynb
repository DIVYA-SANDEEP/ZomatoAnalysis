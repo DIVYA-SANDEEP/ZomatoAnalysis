{
 "cells": [
  {
   "cell_type": "code",
   "execution_count": 96,
   "metadata": {},
   "outputs": [],
   "source": [
    "import pandas as pd\n",
    "import matplotlib.pyplot as plt\n",
    "import unicodedata\n",
    "import seaborn as sns\n",
    "import warnings\n",
    "warnings.filterwarnings('ignore')\n"
   ]
  },
  {
   "cell_type": "code",
   "execution_count": 97,
   "metadata": {},
   "outputs": [],
   "source": [
    "# Load Zomato dataset\n",
    "zomato_data_url = \"https://raw.githubusercontent.com/nethajinirmal13/Training-datasets/main/zomato/zomato.csv\"\n",
    "zomato_df = pd.read_csv(zomato_data_url, encoding='ISO-8859-1')"
   ]
  },
  {
   "cell_type": "code",
   "execution_count": 98,
   "metadata": {},
   "outputs": [],
   "source": [
    "file_path = 'zomato_data.xlsx'\n",
    "zomato_df.to_excel(file_path, index=False)"
   ]
  },
  {
   "cell_type": "code",
   "execution_count": 99,
   "metadata": {},
   "outputs": [],
   "source": [
    "# Load the Excel file by specifying the engine\n",
    "country_code_url = \"https://github.com/nethajinirmal13/Training-datasets/blob/main/zomato/Country-Code.xlsx?raw=true\"\n",
    "country_df = pd.read_excel(country_code_url, engine='openpyxl')"
   ]
  },
  {
   "cell_type": "code",
   "execution_count": 100,
   "metadata": {},
   "outputs": [],
   "source": [
    "file_path = 'country_data.xlsx'\n",
    "country_df.to_excel(file_path, index=False)"
   ]
  },
  {
   "cell_type": "code",
   "execution_count": 101,
   "metadata": {},
   "outputs": [
    {
     "data": {
      "text/html": [
       "<div>\n",
       "<style scoped>\n",
       "    .dataframe tbody tr th:only-of-type {\n",
       "        vertical-align: middle;\n",
       "    }\n",
       "\n",
       "    .dataframe tbody tr th {\n",
       "        vertical-align: top;\n",
       "    }\n",
       "\n",
       "    .dataframe thead th {\n",
       "        text-align: right;\n",
       "    }\n",
       "</style>\n",
       "<table border=\"1\" class=\"dataframe\">\n",
       "  <thead>\n",
       "    <tr style=\"text-align: right;\">\n",
       "      <th></th>\n",
       "      <th>Restaurant ID</th>\n",
       "      <th>Restaurant Name</th>\n",
       "      <th>Country Code</th>\n",
       "      <th>City</th>\n",
       "      <th>Address</th>\n",
       "      <th>Locality</th>\n",
       "      <th>Locality Verbose</th>\n",
       "      <th>Longitude</th>\n",
       "      <th>Latitude</th>\n",
       "      <th>Cuisines</th>\n",
       "      <th>...</th>\n",
       "      <th>Currency</th>\n",
       "      <th>Has Table booking</th>\n",
       "      <th>Has Online delivery</th>\n",
       "      <th>Is delivering now</th>\n",
       "      <th>Switch to order menu</th>\n",
       "      <th>Price range</th>\n",
       "      <th>Aggregate rating</th>\n",
       "      <th>Rating color</th>\n",
       "      <th>Rating text</th>\n",
       "      <th>Votes</th>\n",
       "    </tr>\n",
       "  </thead>\n",
       "  <tbody>\n",
       "    <tr>\n",
       "      <th>0</th>\n",
       "      <td>6317637</td>\n",
       "      <td>Le Petit Souffle</td>\n",
       "      <td>162</td>\n",
       "      <td>Makati City</td>\n",
       "      <td>Third Floor, Century City Mall, Kalayaan Avenu...</td>\n",
       "      <td>Century City Mall, Poblacion, Makati City</td>\n",
       "      <td>Century City Mall, Poblacion, Makati City, Mak...</td>\n",
       "      <td>121.027535</td>\n",
       "      <td>14.565443</td>\n",
       "      <td>French, Japanese, Desserts</td>\n",
       "      <td>...</td>\n",
       "      <td>Botswana Pula(P)</td>\n",
       "      <td>Yes</td>\n",
       "      <td>No</td>\n",
       "      <td>No</td>\n",
       "      <td>No</td>\n",
       "      <td>3</td>\n",
       "      <td>4.8</td>\n",
       "      <td>Dark Green</td>\n",
       "      <td>Excellent</td>\n",
       "      <td>314</td>\n",
       "    </tr>\n",
       "    <tr>\n",
       "      <th>1</th>\n",
       "      <td>6304287</td>\n",
       "      <td>Izakaya Kikufuji</td>\n",
       "      <td>162</td>\n",
       "      <td>Makati City</td>\n",
       "      <td>Little Tokyo, 2277 Chino Roces Avenue, Legaspi...</td>\n",
       "      <td>Little Tokyo, Legaspi Village, Makati City</td>\n",
       "      <td>Little Tokyo, Legaspi Village, Makati City, Ma...</td>\n",
       "      <td>121.014101</td>\n",
       "      <td>14.553708</td>\n",
       "      <td>Japanese</td>\n",
       "      <td>...</td>\n",
       "      <td>Botswana Pula(P)</td>\n",
       "      <td>Yes</td>\n",
       "      <td>No</td>\n",
       "      <td>No</td>\n",
       "      <td>No</td>\n",
       "      <td>3</td>\n",
       "      <td>4.5</td>\n",
       "      <td>Dark Green</td>\n",
       "      <td>Excellent</td>\n",
       "      <td>591</td>\n",
       "    </tr>\n",
       "  </tbody>\n",
       "</table>\n",
       "<p>2 rows × 21 columns</p>\n",
       "</div>"
      ],
      "text/plain": [
       "   Restaurant ID   Restaurant Name  Country Code         City  \\\n",
       "0        6317637  Le Petit Souffle           162  Makati City   \n",
       "1        6304287  Izakaya Kikufuji           162  Makati City   \n",
       "\n",
       "                                             Address  \\\n",
       "0  Third Floor, Century City Mall, Kalayaan Avenu...   \n",
       "1  Little Tokyo, 2277 Chino Roces Avenue, Legaspi...   \n",
       "\n",
       "                                     Locality  \\\n",
       "0   Century City Mall, Poblacion, Makati City   \n",
       "1  Little Tokyo, Legaspi Village, Makati City   \n",
       "\n",
       "                                    Locality Verbose   Longitude   Latitude  \\\n",
       "0  Century City Mall, Poblacion, Makati City, Mak...  121.027535  14.565443   \n",
       "1  Little Tokyo, Legaspi Village, Makati City, Ma...  121.014101  14.553708   \n",
       "\n",
       "                     Cuisines  ...          Currency Has Table booking  \\\n",
       "0  French, Japanese, Desserts  ...  Botswana Pula(P)               Yes   \n",
       "1                    Japanese  ...  Botswana Pula(P)               Yes   \n",
       "\n",
       "  Has Online delivery Is delivering now Switch to order menu Price range  \\\n",
       "0                  No                No                   No           3   \n",
       "1                  No                No                   No           3   \n",
       "\n",
       "   Aggregate rating  Rating color Rating text Votes  \n",
       "0               4.8    Dark Green   Excellent   314  \n",
       "1               4.5    Dark Green   Excellent   591  \n",
       "\n",
       "[2 rows x 21 columns]"
      ]
     },
     "execution_count": 101,
     "metadata": {},
     "output_type": "execute_result"
    }
   ],
   "source": [
    "zomato_df.head(2)"
   ]
  },
  {
   "cell_type": "code",
   "execution_count": 102,
   "metadata": {},
   "outputs": [
    {
     "data": {
      "text/html": [
       "<div>\n",
       "<style scoped>\n",
       "    .dataframe tbody tr th:only-of-type {\n",
       "        vertical-align: middle;\n",
       "    }\n",
       "\n",
       "    .dataframe tbody tr th {\n",
       "        vertical-align: top;\n",
       "    }\n",
       "\n",
       "    .dataframe thead th {\n",
       "        text-align: right;\n",
       "    }\n",
       "</style>\n",
       "<table border=\"1\" class=\"dataframe\">\n",
       "  <thead>\n",
       "    <tr style=\"text-align: right;\">\n",
       "      <th></th>\n",
       "      <th>Country Code</th>\n",
       "      <th>Country</th>\n",
       "    </tr>\n",
       "  </thead>\n",
       "  <tbody>\n",
       "    <tr>\n",
       "      <th>0</th>\n",
       "      <td>1</td>\n",
       "      <td>India</td>\n",
       "    </tr>\n",
       "    <tr>\n",
       "      <th>1</th>\n",
       "      <td>14</td>\n",
       "      <td>Australia</td>\n",
       "    </tr>\n",
       "    <tr>\n",
       "      <th>2</th>\n",
       "      <td>30</td>\n",
       "      <td>Brazil</td>\n",
       "    </tr>\n",
       "    <tr>\n",
       "      <th>3</th>\n",
       "      <td>37</td>\n",
       "      <td>Canada</td>\n",
       "    </tr>\n",
       "    <tr>\n",
       "      <th>4</th>\n",
       "      <td>94</td>\n",
       "      <td>Indonesia</td>\n",
       "    </tr>\n",
       "  </tbody>\n",
       "</table>\n",
       "</div>"
      ],
      "text/plain": [
       "   Country Code    Country\n",
       "0             1      India\n",
       "1            14  Australia\n",
       "2            30     Brazil\n",
       "3            37     Canada\n",
       "4            94  Indonesia"
      ]
     },
     "execution_count": 102,
     "metadata": {},
     "output_type": "execute_result"
    }
   ],
   "source": [
    "country_df.head()"
   ]
  },
  {
   "cell_type": "code",
   "execution_count": 103,
   "metadata": {},
   "outputs": [
    {
     "data": {
      "text/plain": [
       "Index(['Restaurant ID', 'Restaurant Name', 'Country Code', 'City', 'Address',\n",
       "       'Locality', 'Locality Verbose', 'Longitude', 'Latitude', 'Cuisines',\n",
       "       'Average Cost for two', 'Currency', 'Has Table booking',\n",
       "       'Has Online delivery', 'Is delivering now', 'Switch to order menu',\n",
       "       'Price range', 'Aggregate rating', 'Rating color', 'Rating text',\n",
       "       'Votes'],\n",
       "      dtype='object')"
      ]
     },
     "execution_count": 103,
     "metadata": {},
     "output_type": "execute_result"
    }
   ],
   "source": [
    "zomato_df.columns"
   ]
  },
  {
   "cell_type": "code",
   "execution_count": 104,
   "metadata": {},
   "outputs": [
    {
     "data": {
      "text/plain": [
       "array(['India', 'Australia', 'Brazil', 'Canada', 'Indonesia',\n",
       "       'New Zealand', 'Phillipines', 'Qatar', 'Singapore', 'South Africa',\n",
       "       'Sri Lanka', 'Turkey', 'UAE', 'United Kingdom', 'United States'],\n",
       "      dtype=object)"
      ]
     },
     "execution_count": 104,
     "metadata": {},
     "output_type": "execute_result"
    }
   ],
   "source": [
    "country_df['Country'].unique()"
   ]
  },
  {
   "cell_type": "code",
   "execution_count": 105,
   "metadata": {},
   "outputs": [
    {
     "data": {
      "text/plain": [
       "Index(['Country Code', 'Country'], dtype='object')"
      ]
     },
     "execution_count": 105,
     "metadata": {},
     "output_type": "execute_result"
    }
   ],
   "source": [
    "country_df.columns"
   ]
  },
  {
   "cell_type": "code",
   "execution_count": 106,
   "metadata": {},
   "outputs": [],
   "source": [
    "# Merge the datasets\n",
    "zomato_df = zomato_df.merge(country_df, on='Country Code', how='left')"
   ]
  },
  {
   "cell_type": "code",
   "execution_count": 107,
   "metadata": {},
   "outputs": [
    {
     "data": {
      "text/plain": [
       "Restaurant ID           0\n",
       "Restaurant Name         0\n",
       "Country Code            0\n",
       "City                    0\n",
       "Address                 0\n",
       "Locality                0\n",
       "Locality Verbose        0\n",
       "Longitude               0\n",
       "Latitude                0\n",
       "Cuisines                9\n",
       "Average Cost for two    0\n",
       "Currency                0\n",
       "Has Table booking       0\n",
       "Has Online delivery     0\n",
       "Is delivering now       0\n",
       "Switch to order menu    0\n",
       "Price range             0\n",
       "Aggregate rating        0\n",
       "Rating color            0\n",
       "Rating text             0\n",
       "Votes                   0\n",
       "Country                 0\n",
       "dtype: int64"
      ]
     },
     "execution_count": 107,
     "metadata": {},
     "output_type": "execute_result"
    }
   ],
   "source": [
    "zomato_df.isnull().sum()"
   ]
  },
  {
   "cell_type": "code",
   "execution_count": 108,
   "metadata": {},
   "outputs": [],
   "source": [
    "zomato_df['Cuisines'].fillna('Not Available', inplace=True)"
   ]
  },
  {
   "cell_type": "code",
   "execution_count": 109,
   "metadata": {},
   "outputs": [
    {
     "data": {
      "text/plain": [
       "Restaurant ID           0\n",
       "Restaurant Name         0\n",
       "Country Code            0\n",
       "City                    0\n",
       "Address                 0\n",
       "Locality                0\n",
       "Locality Verbose        0\n",
       "Longitude               0\n",
       "Latitude                0\n",
       "Cuisines                0\n",
       "Average Cost for two    0\n",
       "Currency                0\n",
       "Has Table booking       0\n",
       "Has Online delivery     0\n",
       "Is delivering now       0\n",
       "Switch to order menu    0\n",
       "Price range             0\n",
       "Aggregate rating        0\n",
       "Rating color            0\n",
       "Rating text             0\n",
       "Votes                   0\n",
       "Country                 0\n",
       "dtype: int64"
      ]
     },
     "execution_count": 109,
     "metadata": {},
     "output_type": "execute_result"
    }
   ],
   "source": [
    "zomato_df.isnull().sum()"
   ]
  },
  {
   "cell_type": "code",
   "execution_count": 110,
   "metadata": {},
   "outputs": [],
   "source": [
    "#replacing istanbul\n",
    "zomato_df['City'] = zomato_df['City'].replace(\"å¿stanbul\", \"Istanbul\")\n",
    "zomato_df['Address'] = zomato_df['Address'].replace(\"å¿stanbul\", \"Istanbul\", regex=True)\n",
    "zomato_df['Locality Verbose'] = zomato_df['Locality Verbose'].replace(\"å¿stanbul\", \"Istanbul\", regex=True)"
   ]
  },
  {
   "cell_type": "code",
   "execution_count": 111,
   "metadata": {},
   "outputs": [],
   "source": [
    "def clean_text(text):\n",
    "    # Normalize unicode characters (e.g., remove accents)\n",
    "    text = unicodedata.normalize('NFKD', text)\n",
    "    # Remove unwanted characters (keeping only letters and spaces)\n",
    "    text = ''.join(c for c in text if c.isalpha() or c.isspace())\n",
    "    # Normalize whitespace\n",
    "    text = ' '.join(text.split())\n",
    "    # Convert to lowercase\n",
    "    text = text.lower()\n",
    "    return text"
   ]
  },
  {
   "cell_type": "code",
   "execution_count": 112,
   "metadata": {},
   "outputs": [],
   "source": [
    "#applying clen_text to column whether column to be cleaned\n",
    "zomato_df['City'] = zomato_df['City'].apply(clean_text)\n",
    "zomato_df['Locality'] = zomato_df['Locality'].apply(clean_text)\n",
    "zomato_df['Locality Verbose'] = zomato_df['Locality Verbose'].apply(clean_text)\n",
    "zomato_df['Restaurant Name'] = zomato_df['Restaurant Name'].apply(clean_text)\n",
    "zomato_df['Address'] = zomato_df['Address'].apply(clean_text)"
   ]
  },
  {
   "cell_type": "code",
   "execution_count": 113,
   "metadata": {},
   "outputs": [
    {
     "data": {
      "text/plain": [
       "array(['Phillipines', 'Brazil', 'United States', 'Australia', 'Canada',\n",
       "       'Singapore', 'UAE', 'India', 'Indonesia', 'New Zealand',\n",
       "       'United Kingdom', 'Qatar', 'South Africa', 'Sri Lanka', 'Turkey'],\n",
       "      dtype=object)"
      ]
     },
     "execution_count": 113,
     "metadata": {},
     "output_type": "execute_result"
    }
   ],
   "source": [
    "zomato_df['Country'].unique()"
   ]
  },
  {
   "cell_type": "code",
   "execution_count": 114,
   "metadata": {},
   "outputs": [
    {
     "data": {
      "text/plain": [
       "array(['Botswana Pula(P)', 'Brazilian Real(R$)', 'Dollar($)',\n",
       "       'Emirati Diram(AED)', 'Indian Rupees(Rs.)',\n",
       "       'Indonesian Rupiah(IDR)', 'NewZealand($)', 'Pounds(å°\\x88)',\n",
       "       'Qatari Rial(QR)', 'Rand(R)', 'Sri Lankan Rupee(LKR)',\n",
       "       'Turkish Lira(TL)'], dtype=object)"
      ]
     },
     "execution_count": 114,
     "metadata": {},
     "output_type": "execute_result"
    }
   ],
   "source": [
    "zomato_df['Currency'].unique()"
   ]
  },
  {
   "cell_type": "code",
   "execution_count": 115,
   "metadata": {},
   "outputs": [
    {
     "data": {
      "text/html": [
       "<div>\n",
       "<style scoped>\n",
       "    .dataframe tbody tr th:only-of-type {\n",
       "        vertical-align: middle;\n",
       "    }\n",
       "\n",
       "    .dataframe tbody tr th {\n",
       "        vertical-align: top;\n",
       "    }\n",
       "\n",
       "    .dataframe thead th {\n",
       "        text-align: right;\n",
       "    }\n",
       "</style>\n",
       "<table border=\"1\" class=\"dataframe\">\n",
       "  <thead>\n",
       "    <tr style=\"text-align: right;\">\n",
       "      <th></th>\n",
       "      <th>Restaurant ID</th>\n",
       "      <th>Restaurant Name</th>\n",
       "      <th>Country Code</th>\n",
       "      <th>City</th>\n",
       "      <th>Address</th>\n",
       "      <th>Locality</th>\n",
       "      <th>Locality Verbose</th>\n",
       "      <th>Longitude</th>\n",
       "      <th>Latitude</th>\n",
       "      <th>Cuisines</th>\n",
       "      <th>...</th>\n",
       "      <th>Has Table booking</th>\n",
       "      <th>Has Online delivery</th>\n",
       "      <th>Is delivering now</th>\n",
       "      <th>Switch to order menu</th>\n",
       "      <th>Price range</th>\n",
       "      <th>Aggregate rating</th>\n",
       "      <th>Rating color</th>\n",
       "      <th>Rating text</th>\n",
       "      <th>Votes</th>\n",
       "      <th>Country</th>\n",
       "    </tr>\n",
       "  </thead>\n",
       "  <tbody>\n",
       "    <tr>\n",
       "      <th>0</th>\n",
       "      <td>6317637</td>\n",
       "      <td>le petit souffle</td>\n",
       "      <td>162</td>\n",
       "      <td>makati city</td>\n",
       "      <td>third floor century city mall kalayaan avenue ...</td>\n",
       "      <td>century city mall poblacion makati city</td>\n",
       "      <td>century city mall poblacion makati city makati...</td>\n",
       "      <td>121.027535</td>\n",
       "      <td>14.565443</td>\n",
       "      <td>French, Japanese, Desserts</td>\n",
       "      <td>...</td>\n",
       "      <td>Yes</td>\n",
       "      <td>No</td>\n",
       "      <td>No</td>\n",
       "      <td>No</td>\n",
       "      <td>3</td>\n",
       "      <td>4.8</td>\n",
       "      <td>Dark Green</td>\n",
       "      <td>Excellent</td>\n",
       "      <td>314</td>\n",
       "      <td>Phillipines</td>\n",
       "    </tr>\n",
       "    <tr>\n",
       "      <th>1</th>\n",
       "      <td>6304287</td>\n",
       "      <td>izakaya kikufuji</td>\n",
       "      <td>162</td>\n",
       "      <td>makati city</td>\n",
       "      <td>little tokyo chino roces avenue legaspi villag...</td>\n",
       "      <td>little tokyo legaspi village makati city</td>\n",
       "      <td>little tokyo legaspi village makati city makat...</td>\n",
       "      <td>121.014101</td>\n",
       "      <td>14.553708</td>\n",
       "      <td>Japanese</td>\n",
       "      <td>...</td>\n",
       "      <td>Yes</td>\n",
       "      <td>No</td>\n",
       "      <td>No</td>\n",
       "      <td>No</td>\n",
       "      <td>3</td>\n",
       "      <td>4.5</td>\n",
       "      <td>Dark Green</td>\n",
       "      <td>Excellent</td>\n",
       "      <td>591</td>\n",
       "      <td>Phillipines</td>\n",
       "    </tr>\n",
       "    <tr>\n",
       "      <th>2</th>\n",
       "      <td>6300002</td>\n",
       "      <td>heat edsa shangrila</td>\n",
       "      <td>162</td>\n",
       "      <td>mandaluyong city</td>\n",
       "      <td>edsa shangrila garden way ortigas mandaluyong ...</td>\n",
       "      <td>edsa shangrila ortigas mandaluyong city</td>\n",
       "      <td>edsa shangrila ortigas mandaluyong city mandal...</td>\n",
       "      <td>121.056831</td>\n",
       "      <td>14.581404</td>\n",
       "      <td>Seafood, Asian, Filipino, Indian</td>\n",
       "      <td>...</td>\n",
       "      <td>Yes</td>\n",
       "      <td>No</td>\n",
       "      <td>No</td>\n",
       "      <td>No</td>\n",
       "      <td>4</td>\n",
       "      <td>4.4</td>\n",
       "      <td>Green</td>\n",
       "      <td>Very Good</td>\n",
       "      <td>270</td>\n",
       "      <td>Phillipines</td>\n",
       "    </tr>\n",
       "  </tbody>\n",
       "</table>\n",
       "<p>3 rows × 22 columns</p>\n",
       "</div>"
      ],
      "text/plain": [
       "   Restaurant ID      Restaurant Name  Country Code              City  \\\n",
       "0        6317637     le petit souffle           162       makati city   \n",
       "1        6304287     izakaya kikufuji           162       makati city   \n",
       "2        6300002  heat edsa shangrila           162  mandaluyong city   \n",
       "\n",
       "                                             Address  \\\n",
       "0  third floor century city mall kalayaan avenue ...   \n",
       "1  little tokyo chino roces avenue legaspi villag...   \n",
       "2  edsa shangrila garden way ortigas mandaluyong ...   \n",
       "\n",
       "                                   Locality  \\\n",
       "0   century city mall poblacion makati city   \n",
       "1  little tokyo legaspi village makati city   \n",
       "2   edsa shangrila ortigas mandaluyong city   \n",
       "\n",
       "                                    Locality Verbose   Longitude   Latitude  \\\n",
       "0  century city mall poblacion makati city makati...  121.027535  14.565443   \n",
       "1  little tokyo legaspi village makati city makat...  121.014101  14.553708   \n",
       "2  edsa shangrila ortigas mandaluyong city mandal...  121.056831  14.581404   \n",
       "\n",
       "                           Cuisines  ...  Has Table booking  \\\n",
       "0        French, Japanese, Desserts  ...                Yes   \n",
       "1                          Japanese  ...                Yes   \n",
       "2  Seafood, Asian, Filipino, Indian  ...                Yes   \n",
       "\n",
       "  Has Online delivery Is delivering now Switch to order menu Price range  \\\n",
       "0                  No                No                   No           3   \n",
       "1                  No                No                   No           3   \n",
       "2                  No                No                   No           4   \n",
       "\n",
       "  Aggregate rating  Rating color  Rating text Votes      Country  \n",
       "0              4.8    Dark Green    Excellent   314  Phillipines  \n",
       "1              4.5    Dark Green    Excellent   591  Phillipines  \n",
       "2              4.4         Green    Very Good   270  Phillipines  \n",
       "\n",
       "[3 rows x 22 columns]"
      ]
     },
     "execution_count": 115,
     "metadata": {},
     "output_type": "execute_result"
    }
   ],
   "source": [
    "zomato_df.head(3)"
   ]
  },
  {
   "cell_type": "code",
   "execution_count": 116,
   "metadata": {},
   "outputs": [],
   "source": [
    "#Capturing all data expect restaurant name is empty\n",
    "zomato_df_cleaned = zomato_df[zomato_df['Restaurant Name'].str.strip() != '']"
   ]
  },
  {
   "cell_type": "code",
   "execution_count": 117,
   "metadata": {},
   "outputs": [],
   "source": [
    "#drop the columns \n",
    "zomato_df_cleaned.drop(columns=['Longitude'],inplace=True)\n",
    "zomato_df_cleaned.drop(columns=['Latitude'],inplace=True)\n",
    "zomato_df_cleaned.drop(columns=['Restaurant ID'],inplace=True)\n",
    "zomato_df_cleaned.drop(columns=['Country Code'],inplace=True)"
   ]
  },
  {
   "cell_type": "code",
   "execution_count": 118,
   "metadata": {},
   "outputs": [
    {
     "data": {
      "text/plain": [
       "['Aggregate rating']"
      ]
     },
     "execution_count": 118,
     "metadata": {},
     "output_type": "execute_result"
    }
   ],
   "source": [
    "#checking outliers\n",
    "float_data_cols = [var for var in zomato_df_cleaned.columns if zomato_df_cleaned[var].dtype == 'float64']\n",
    "float_data_cols"
   ]
  },
  {
   "cell_type": "code",
   "execution_count": 122,
   "metadata": {},
   "outputs": [
    {
     "data": {
      "image/png": "[encoded data removed]",
      "text/plain": [
       "<Figure size 1500x500 with 1 Axes>"
      ]
     },
     "metadata": {},
     "output_type": "display_data"
    }
   ],
   "source": [
    "columns_of_interest = ['Aggregate rating']  # List of columns\n",
    "fig, axes = plt.subplots(nrows=1, ncols=len(columns_of_interest), figsize=(15, 5))\n",
    "\n",
    "# If there's only one column, axes will not be a list, so we need to handle it\n",
    "if len(columns_of_interest) == 1:\n",
    "    axes = [axes]  # Convert axes to a list for consistency\n",
    "\n",
    "for i, column in enumerate(columns_of_interest):\n",
    "    sns.boxplot(y=zomato_df_cleaned[column], ax=axes[i])\n",
    "    axes[i].set_title('Boxplot of {}'.format(column))\n",
    "\n",
    "plt.tight_layout()\n",
    "plt.show()"
   ]
  },
  {
   "cell_type": "code",
   "execution_count": 124,
   "metadata": {},
   "outputs": [
    {
     "name": "stdout",
     "output_type": "stream",
     "text": [
      "{'Aggregate rating': (np.float64(0.6999999999999997), np.float64(5.5))}\n"
     ]
    }
   ],
   "source": [
    "def find_outliers(df, columns):\n",
    "    outliers = {}\n",
    "    for column in columns:\n",
    "        Q1 = df[column].quantile(0.25)\n",
    "        Q3 = df[column].quantile(0.75)\n",
    "        IQR = Q3 - Q1\n",
    "        lower_bound = Q1 - 1.5 * IQR\n",
    "        upper_bound = Q3 + 1.5 * IQR\n",
    "        \n",
    "        # Clip values within the bounds\n",
    "        df[column] = df[column].clip(lower=lower_bound, upper=upper_bound)\n",
    "        \n",
    "        outliers[column] = (lower_bound, upper_bound)\n",
    "    return outliers\n",
    "\n",
    "# Example usage:\n",
    "outliers = find_outliers(zomato_df_cleaned, ['Aggregate rating'])\n",
    "print(outliers)"
   ]
  },
  {
   "cell_type": "code",
   "execution_count": 125,
   "metadata": {},
   "outputs": [
    {
     "data": {
      "image/png": "[encoded data removed]",
      "text/plain": [
       "<Figure size 1500x500 with 1 Axes>"
      ]
     },
     "metadata": {},
     "output_type": "display_data"
    }
   ],
   "source": [
    "columns_of_interest = ['Aggregate rating']  # List of columns\n",
    "fig, axes = plt.subplots(nrows=1, ncols=len(columns_of_interest), figsize=(15, 5))\n",
    "\n",
    "# If there's only one column, axes will not be a list, so we need to handle it\n",
    "if len(columns_of_interest) == 1:\n",
    "    axes = [axes]  # Convert axes to a list for consistency\n",
    "\n",
    "for i, column in enumerate(columns_of_interest):\n",
    "    sns.boxplot(y=zomato_df_cleaned[column], ax=axes[i])\n",
    "    axes[i].set_title('Boxplot of {}'.format(column))\n",
    "\n",
    "plt.tight_layout()\n",
    "plt.show()"
   ]
  },
  {
   "cell_type": "code",
   "execution_count": 126,
   "metadata": {},
   "outputs": [
    {
     "data": {
      "text/plain": [
       "['Average Cost for two', 'Price range', 'Votes']"
      ]
     },
     "execution_count": 126,
     "metadata": {},
     "output_type": "execute_result"
    }
   ],
   "source": [
    "integer_data_cols = [var for var in zomato_df_cleaned.columns if zomato_df_cleaned[var].dtype == 'int64']\n",
    "integer_data_cols"
   ]
  },
  {
   "cell_type": "code",
   "execution_count": 127,
   "metadata": {},
   "outputs": [
    {
     "data": {
      "image/png": "[encoded data removed]",
      "text/plain": [
       "<Figure size 1500x500 with 3 Axes>"
      ]
     },
     "metadata": {},
     "output_type": "display_data"
    }
   ],
   "source": [
    "columns_of_interest = ['Average Cost for two',\n",
    " 'Price range',\n",
    " 'Votes']\n",
    "fig, axes = plt.subplots(nrows=1, ncols=len(columns_of_interest), figsize=(15, 5))\n",
    "\n",
    "for i, column in enumerate(columns_of_interest):\n",
    "    sns.boxplot(y=zomato_df_cleaned[column], ax=axes[i])\n",
    "    axes[i].set_title('Boxplot of {}'.format(column))\n",
    "\n",
    "plt.tight_layout()\n",
    "plt.show()"
   ]
  },
  {
   "cell_type": "code",
   "execution_count": 128,
   "metadata": {},
   "outputs": [
    {
     "name": "stdout",
     "output_type": "stream",
     "text": [
      "{'Average Cost for two': (np.float64(-425.0), np.float64(1375.0)), 'Price range': (np.float64(-0.5), np.float64(3.5)), 'Votes': (np.float64(-184.0), np.float64(320.0))}\n"
     ]
    }
   ],
   "source": [
    "outliers = find_outliers(zomato_df_cleaned,[\n",
    " 'Average Cost for two',\n",
    " 'Price range',\n",
    " 'Votes'])\n",
    "print(outliers)"
   ]
  },
  {
   "cell_type": "code",
   "execution_count": 129,
   "metadata": {},
   "outputs": [
    {
     "data": {
      "image/png": "[encoded data removed]",
      "text/plain": [
       "<Figure size 1500x500 with 3 Axes>"
      ]
     },
     "metadata": {},
     "output_type": "display_data"
    }
   ],
   "source": [
    "columns_of_interest = [\n",
    " 'Average Cost for two',\n",
    " 'Price range',\n",
    " 'Votes']\n",
    "fig, axes = plt.subplots(nrows=1, ncols=len(columns_of_interest), figsize=(15, 5))\n",
    "\n",
    "for i, column in enumerate(columns_of_interest):\n",
    "    sns.boxplot(y=zomato_df_cleaned[column], ax=axes[i])\n",
    "    axes[i].set_title('Boxplot of {}'.format(column))\n",
    "\n",
    "plt.tight_layout()\n",
    "plt.show()"
   ]
  },
  {
   "cell_type": "code",
   "execution_count": 130,
   "metadata": {},
   "outputs": [],
   "source": [
    "# Conversion currency to INR\n",
    "exchange_rates = {\n",
    "    'Phillipines': 1.5,      # PHP to INR\n",
    "    'Brazil': 15.0,          # BRL to INR\n",
    "    'United States': 82.0,   # USD to INR\n",
    "    'Australia': 50.0,       # AUD to INR\n",
    "    'Canada': 60.0,          # CAD to INR\n",
    "    'Singapore': 55.0,       # SGD to INR\n",
    "    'UAE': 22.0,             # AED to INR\n",
    "    'India': 1.0,            # INR (No conversion needed)\n",
    "    'Indonesia': 0.0055,     # IDR to INR\n",
    "    'New Zealand': 48.0,     # NZD to INR\n",
    "    'United Kingdom': 100.0, # GBP to INR\n",
    "    'Qatar': 22.5,           # QAR to INR\n",
    "    'South Africa': 4.5,     # ZAR to INR\n",
    "    'Sri Lanka': 0.25,       # LKR to INR\n",
    "    'Turkey': 7.0            # TRY to INR\n",
    "}\n",
    "\n",
    "# Adding a new column for price in INR\n",
    "zomato_df_cleaned['Price_INR'] = zomato_df_cleaned.apply(\n",
    "    lambda x: x['Average Cost for two'] * exchange_rates.get(x['Country'], 1), axis=1\n",
    ")\n"
   ]
  },
  {
   "cell_type": "code",
   "execution_count": 131,
   "metadata": {},
   "outputs": [
    {
     "data": {
      "text/html": [
       "<div>\n",
       "<style scoped>\n",
       "    .dataframe tbody tr th:only-of-type {\n",
       "        vertical-align: middle;\n",
       "    }\n",
       "\n",
       "    .dataframe tbody tr th {\n",
       "        vertical-align: top;\n",
       "    }\n",
       "\n",
       "    .dataframe thead th {\n",
       "        text-align: right;\n",
       "    }\n",
       "</style>\n",
       "<table border=\"1\" class=\"dataframe\">\n",
       "  <thead>\n",
       "    <tr style=\"text-align: right;\">\n",
       "      <th></th>\n",
       "      <th>Restaurant Name</th>\n",
       "      <th>City</th>\n",
       "      <th>Address</th>\n",
       "      <th>Locality</th>\n",
       "      <th>Locality Verbose</th>\n",
       "      <th>Cuisines</th>\n",
       "      <th>Average Cost for two</th>\n",
       "      <th>Currency</th>\n",
       "      <th>Has Table booking</th>\n",
       "      <th>Has Online delivery</th>\n",
       "      <th>Is delivering now</th>\n",
       "      <th>Switch to order menu</th>\n",
       "      <th>Price range</th>\n",
       "      <th>Aggregate rating</th>\n",
       "      <th>Rating color</th>\n",
       "      <th>Rating text</th>\n",
       "      <th>Votes</th>\n",
       "      <th>Country</th>\n",
       "      <th>Price_INR</th>\n",
       "    </tr>\n",
       "  </thead>\n",
       "  <tbody>\n",
       "    <tr>\n",
       "      <th>0</th>\n",
       "      <td>le petit souffle</td>\n",
       "      <td>makati city</td>\n",
       "      <td>third floor century city mall kalayaan avenue ...</td>\n",
       "      <td>century city mall poblacion makati city</td>\n",
       "      <td>century city mall poblacion makati city makati...</td>\n",
       "      <td>French, Japanese, Desserts</td>\n",
       "      <td>1100</td>\n",
       "      <td>Botswana Pula(P)</td>\n",
       "      <td>Yes</td>\n",
       "      <td>No</td>\n",
       "      <td>No</td>\n",
       "      <td>No</td>\n",
       "      <td>3.0</td>\n",
       "      <td>4.8</td>\n",
       "      <td>Dark Green</td>\n",
       "      <td>Excellent</td>\n",
       "      <td>314</td>\n",
       "      <td>Phillipines</td>\n",
       "      <td>1650.0</td>\n",
       "    </tr>\n",
       "    <tr>\n",
       "      <th>1</th>\n",
       "      <td>izakaya kikufuji</td>\n",
       "      <td>makati city</td>\n",
       "      <td>little tokyo chino roces avenue legaspi villag...</td>\n",
       "      <td>little tokyo legaspi village makati city</td>\n",
       "      <td>little tokyo legaspi village makati city makat...</td>\n",
       "      <td>Japanese</td>\n",
       "      <td>1200</td>\n",
       "      <td>Botswana Pula(P)</td>\n",
       "      <td>Yes</td>\n",
       "      <td>No</td>\n",
       "      <td>No</td>\n",
       "      <td>No</td>\n",
       "      <td>3.0</td>\n",
       "      <td>4.5</td>\n",
       "      <td>Dark Green</td>\n",
       "      <td>Excellent</td>\n",
       "      <td>320</td>\n",
       "      <td>Phillipines</td>\n",
       "      <td>1800.0</td>\n",
       "    </tr>\n",
       "  </tbody>\n",
       "</table>\n",
       "</div>"
      ],
      "text/plain": [
       "    Restaurant Name         City  \\\n",
       "0  le petit souffle  makati city   \n",
       "1  izakaya kikufuji  makati city   \n",
       "\n",
       "                                             Address  \\\n",
       "0  third floor century city mall kalayaan avenue ...   \n",
       "1  little tokyo chino roces avenue legaspi villag...   \n",
       "\n",
       "                                   Locality  \\\n",
       "0   century city mall poblacion makati city   \n",
       "1  little tokyo legaspi village makati city   \n",
       "\n",
       "                                    Locality Verbose  \\\n",
       "0  century city mall poblacion makati city makati...   \n",
       "1  little tokyo legaspi village makati city makat...   \n",
       "\n",
       "                     Cuisines  Average Cost for two          Currency  \\\n",
       "0  French, Japanese, Desserts                  1100  Botswana Pula(P)   \n",
       "1                    Japanese                  1200  Botswana Pula(P)   \n",
       "\n",
       "  Has Table booking Has Online delivery Is delivering now  \\\n",
       "0               Yes                  No                No   \n",
       "1               Yes                  No                No   \n",
       "\n",
       "  Switch to order menu  Price range  Aggregate rating Rating color  \\\n",
       "0                   No          3.0               4.8   Dark Green   \n",
       "1                   No          3.0               4.5   Dark Green   \n",
       "\n",
       "  Rating text  Votes      Country  Price_INR  \n",
       "0   Excellent    314  Phillipines     1650.0  \n",
       "1   Excellent    320  Phillipines     1800.0  "
      ]
     },
     "execution_count": 131,
     "metadata": {},
     "output_type": "execute_result"
    }
   ],
   "source": [
    "zomato_df_cleaned.head(2)"
   ]
  },
  {
   "cell_type": "code",
   "execution_count": 132,
   "metadata": {},
   "outputs": [],
   "source": [
    "zomato_df1=zomato_df_cleaned\n",
    "file_path = 'zomato_updated.xlsx'\n",
    "zomato_df1.to_excel(file_path, index=False)"
   ]
  },
  {
   "cell_type": "code",
   "execution_count": 133,
   "metadata": {},
   "outputs": [
    {
     "data": {
      "image/png": "[encoded data removed]",
      "text/plain": [
       "<Figure size 1600x800 with 1 Axes>"
      ]
     },
     "metadata": {},
     "output_type": "display_data"
    }
   ],
   "source": [
    "# Data for plotting\n",
    "currencies = list(exchange_rates.keys())\n",
    "rates = list(exchange_rates.values())\n",
    "\n",
    "# Plotting exchange rates comparison\n",
    "plt.figure(figsize=(16, 8)) \n",
    "bars = plt.barh(currencies, rates, color='lightsalmon')\n",
    "\n",
    "# Adding value labels to each bar\n",
    "for bar in bars:\n",
    "    plt.text(bar.get_width() + 0.5, bar.get_y() + bar.get_height() / 2,\n",
    "             f'{bar.get_width()}', va='center', ha='left', fontsize=10, color='black')\n",
    "\n",
    "plt.title('Comparison of Indian Rupee with Other Currencies')\n",
    "plt.xlabel('Currency in INR')\n",
    "plt.ylabel('Country')\n",
    "plt.show()"
   ]
  },
  {
   "cell_type": "code",
   "execution_count": 134,
   "metadata": {},
   "outputs": [
    {
     "name": "stdout",
     "output_type": "stream",
     "text": [
      "<class 'pandas.core.frame.DataFrame'>\n",
      "Index: 9549 entries, 0 to 9550\n",
      "Data columns (total 19 columns):\n",
      " #   Column                Non-Null Count  Dtype  \n",
      "---  ------                --------------  -----  \n",
      " 0   Restaurant Name       9549 non-null   object \n",
      " 1   City                  9549 non-null   object \n",
      " 2   Address               9549 non-null   object \n",
      " 3   Locality              9549 non-null   object \n",
      " 4   Locality Verbose      9549 non-null   object \n",
      " 5   Cuisines              9549 non-null   object \n",
      " 6   Average Cost for two  9549 non-null   int64  \n",
      " 7   Currency              9549 non-null   object \n",
      " 8   Has Table booking     9549 non-null   object \n",
      " 9   Has Online delivery   9549 non-null   object \n",
      " 10  Is delivering now     9549 non-null   object \n",
      " 11  Switch to order menu  9549 non-null   object \n",
      " 12  Price range           9549 non-null   float64\n",
      " 13  Aggregate rating      9549 non-null   float64\n",
      " 14  Rating color          9549 non-null   object \n",
      " 15  Rating text           9549 non-null   object \n",
      " 16  Votes                 9549 non-null   int64  \n",
      " 17  Country               9549 non-null   object \n",
      " 18  Price_INR             9549 non-null   float64\n",
      "dtypes: float64(3), int64(2), object(14)\n",
      "memory usage: 1.5+ MB\n"
     ]
    }
   ],
   "source": [
    "zomato_df_cleaned.info()"
   ]
  },
  {
   "cell_type": "code",
   "execution_count": 135,
   "metadata": {},
   "outputs": [
    {
     "data": {
      "text/html": [
       "<div>\n",
       "<style scoped>\n",
       "    .dataframe tbody tr th:only-of-type {\n",
       "        vertical-align: middle;\n",
       "    }\n",
       "\n",
       "    .dataframe tbody tr th {\n",
       "        vertical-align: top;\n",
       "    }\n",
       "\n",
       "    .dataframe thead th {\n",
       "        text-align: right;\n",
       "    }\n",
       "</style>\n",
       "<table border=\"1\" class=\"dataframe\">\n",
       "  <thead>\n",
       "    <tr style=\"text-align: right;\">\n",
       "      <th></th>\n",
       "      <th>Restaurant Name</th>\n",
       "      <th>City</th>\n",
       "      <th>Address</th>\n",
       "      <th>Locality</th>\n",
       "      <th>Locality Verbose</th>\n",
       "      <th>Cuisines</th>\n",
       "      <th>Average Cost for two</th>\n",
       "      <th>Currency</th>\n",
       "      <th>Has Table booking</th>\n",
       "      <th>Has Online delivery</th>\n",
       "      <th>Is delivering now</th>\n",
       "      <th>Switch to order menu</th>\n",
       "      <th>Price range</th>\n",
       "      <th>Aggregate rating</th>\n",
       "      <th>Rating color</th>\n",
       "      <th>Rating text</th>\n",
       "      <th>Votes</th>\n",
       "      <th>Country</th>\n",
       "      <th>Price_INR</th>\n",
       "    </tr>\n",
       "  </thead>\n",
       "  <tbody>\n",
       "    <tr>\n",
       "      <th>84</th>\n",
       "      <td>cookie shoppe</td>\n",
       "      <td>albany</td>\n",
       "      <td>n jackson st albany ga</td>\n",
       "      <td>albany</td>\n",
       "      <td>albany albany</td>\n",
       "      <td>Not Available</td>\n",
       "      <td>0</td>\n",
       "      <td>Dollar($)</td>\n",
       "      <td>No</td>\n",
       "      <td>No</td>\n",
       "      <td>No</td>\n",
       "      <td>No</td>\n",
       "      <td>1.0</td>\n",
       "      <td>3.4</td>\n",
       "      <td>Orange</td>\n",
       "      <td>Average</td>\n",
       "      <td>34</td>\n",
       "      <td>United States</td>\n",
       "      <td>0.0</td>\n",
       "    </tr>\n",
       "    <tr>\n",
       "      <th>87</th>\n",
       "      <td>pearlys famous country cookng</td>\n",
       "      <td>albany</td>\n",
       "      <td>n slappey blvd albany ga</td>\n",
       "      <td>albany</td>\n",
       "      <td>albany albany</td>\n",
       "      <td>Not Available</td>\n",
       "      <td>0</td>\n",
       "      <td>Dollar($)</td>\n",
       "      <td>No</td>\n",
       "      <td>No</td>\n",
       "      <td>No</td>\n",
       "      <td>No</td>\n",
       "      <td>1.0</td>\n",
       "      <td>3.4</td>\n",
       "      <td>Orange</td>\n",
       "      <td>Average</td>\n",
       "      <td>36</td>\n",
       "      <td>United States</td>\n",
       "      <td>0.0</td>\n",
       "    </tr>\n",
       "    <tr>\n",
       "      <th>94</th>\n",
       "      <td>jimmies hot dogs</td>\n",
       "      <td>albany</td>\n",
       "      <td>s jackson st albany ga</td>\n",
       "      <td>albany</td>\n",
       "      <td>albany albany</td>\n",
       "      <td>Not Available</td>\n",
       "      <td>10</td>\n",
       "      <td>Dollar($)</td>\n",
       "      <td>No</td>\n",
       "      <td>No</td>\n",
       "      <td>No</td>\n",
       "      <td>No</td>\n",
       "      <td>1.0</td>\n",
       "      <td>3.9</td>\n",
       "      <td>Yellow</td>\n",
       "      <td>Good</td>\n",
       "      <td>160</td>\n",
       "      <td>United States</td>\n",
       "      <td>820.0</td>\n",
       "    </tr>\n",
       "    <tr>\n",
       "      <th>297</th>\n",
       "      <td>corkscrew cafe</td>\n",
       "      <td>gainesville</td>\n",
       "      <td>w main st dahlonega ga</td>\n",
       "      <td>dahlonega</td>\n",
       "      <td>dahlonega gainesville</td>\n",
       "      <td>Not Available</td>\n",
       "      <td>40</td>\n",
       "      <td>Dollar($)</td>\n",
       "      <td>No</td>\n",
       "      <td>No</td>\n",
       "      <td>No</td>\n",
       "      <td>No</td>\n",
       "      <td>3.0</td>\n",
       "      <td>3.9</td>\n",
       "      <td>Yellow</td>\n",
       "      <td>Good</td>\n",
       "      <td>209</td>\n",
       "      <td>United States</td>\n",
       "      <td>3280.0</td>\n",
       "    </tr>\n",
       "    <tr>\n",
       "      <th>328</th>\n",
       "      <td>dovetail</td>\n",
       "      <td>macon</td>\n",
       "      <td>cherry st macon ga</td>\n",
       "      <td>macon</td>\n",
       "      <td>macon macon</td>\n",
       "      <td>Not Available</td>\n",
       "      <td>40</td>\n",
       "      <td>Dollar($)</td>\n",
       "      <td>No</td>\n",
       "      <td>No</td>\n",
       "      <td>No</td>\n",
       "      <td>No</td>\n",
       "      <td>3.0</td>\n",
       "      <td>3.8</td>\n",
       "      <td>Yellow</td>\n",
       "      <td>Good</td>\n",
       "      <td>102</td>\n",
       "      <td>United States</td>\n",
       "      <td>3280.0</td>\n",
       "    </tr>\n",
       "  </tbody>\n",
       "</table>\n",
       "</div>"
      ],
      "text/plain": [
       "                   Restaurant Name         City                   Address  \\\n",
       "84                   cookie shoppe       albany    n jackson st albany ga   \n",
       "87   pearlys famous country cookng       albany  n slappey blvd albany ga   \n",
       "94                jimmies hot dogs       albany    s jackson st albany ga   \n",
       "297                 corkscrew cafe  gainesville    w main st dahlonega ga   \n",
       "328                       dovetail        macon        cherry st macon ga   \n",
       "\n",
       "      Locality       Locality Verbose       Cuisines  Average Cost for two  \\\n",
       "84      albany          albany albany  Not Available                     0   \n",
       "87      albany          albany albany  Not Available                     0   \n",
       "94      albany          albany albany  Not Available                    10   \n",
       "297  dahlonega  dahlonega gainesville  Not Available                    40   \n",
       "328      macon            macon macon  Not Available                    40   \n",
       "\n",
       "      Currency Has Table booking Has Online delivery Is delivering now  \\\n",
       "84   Dollar($)                No                  No                No   \n",
       "87   Dollar($)                No                  No                No   \n",
       "94   Dollar($)                No                  No                No   \n",
       "297  Dollar($)                No                  No                No   \n",
       "328  Dollar($)                No                  No                No   \n",
       "\n",
       "    Switch to order menu  Price range  Aggregate rating Rating color  \\\n",
       "84                    No          1.0               3.4       Orange   \n",
       "87                    No          1.0               3.4       Orange   \n",
       "94                    No          1.0               3.9       Yellow   \n",
       "297                   No          3.0               3.9       Yellow   \n",
       "328                   No          3.0               3.8       Yellow   \n",
       "\n",
       "    Rating text  Votes        Country  Price_INR  \n",
       "84      Average     34  United States        0.0  \n",
       "87      Average     36  United States        0.0  \n",
       "94         Good    160  United States      820.0  \n",
       "297        Good    209  United States     3280.0  \n",
       "328        Good    102  United States     3280.0  "
      ]
     },
     "execution_count": 135,
     "metadata": {},
     "output_type": "execute_result"
    }
   ],
   "source": [
    "# Check rows where Cuisines is 'Not Available'\n",
    "zomato_df_cleaned[zomato_df_cleaned['Cuisines'] == 'Not Available'].head()"
   ]
  }
 ],
 "metadata": {
  "kernelspec": {
   "display_name": ".venv",
   "language": "python",
   "name": "python3"
  },
  "language_info": {
   "codemirror_mode": {
    "name": "ipython",
    "version": 3
   },
   "file_extension": ".py",
   "mimetype": "text/x-python",
   "name": "python",
   "nbconvert_exporter": "python",
   "pygments_lexer": "ipython3",
   "version": "3.12.0"
  }
 },
 "nbformat": 4,
 "nbformat_minor": 2
}
